{
 "cells": [
  {
   "cell_type": "code",
   "execution_count": 1,
   "id": "6b22a777",
   "metadata": {},
   "outputs": [],
   "source": [
    "import numpy as np"
   ]
  },
  {
   "cell_type": "code",
   "execution_count": 2,
   "id": "321e6fd3",
   "metadata": {},
   "outputs": [],
   "source": [
    "a = [2, 5, 7]"
   ]
  },
  {
   "cell_type": "code",
   "execution_count": 3,
   "id": "3f6b4e55",
   "metadata": {},
   "outputs": [],
   "source": [
    "b = [3, 12, 27]"
   ]
  },
  {
   "cell_type": "code",
   "execution_count": 4,
   "id": "3334079d",
   "metadata": {},
   "outputs": [
    {
     "data": {
      "text/plain": [
       "[2, 5, 7, 3, 12, 27]"
      ]
     },
     "execution_count": 4,
     "metadata": {},
     "output_type": "execute_result"
    }
   ],
   "source": [
    "a+b"
   ]
  },
  {
   "cell_type": "code",
   "execution_count": 5,
   "id": "400abe43",
   "metadata": {},
   "outputs": [],
   "source": [
    "c = [m+n for m, n in zip(a,b)]"
   ]
  },
  {
   "cell_type": "code",
   "execution_count": 6,
   "id": "1da29ce4",
   "metadata": {},
   "outputs": [
    {
     "data": {
      "text/plain": [
       "[5, 17, 34]"
      ]
     },
     "execution_count": 6,
     "metadata": {},
     "output_type": "execute_result"
    }
   ],
   "source": [
    "c"
   ]
  },
  {
   "cell_type": "code",
   "execution_count": 7,
   "id": "5f8525c9",
   "metadata": {},
   "outputs": [
    {
     "data": {
      "text/plain": [
       "14"
      ]
     },
     "execution_count": 7,
     "metadata": {},
     "output_type": "execute_result"
    }
   ],
   "source": [
    "sum(a)"
   ]
  },
  {
   "cell_type": "code",
   "execution_count": 8,
   "id": "c3cd1fbc",
   "metadata": {},
   "outputs": [],
   "source": [
    "np_a = np.array(a)"
   ]
  },
  {
   "cell_type": "code",
   "execution_count": 9,
   "id": "a598c170",
   "metadata": {},
   "outputs": [],
   "source": [
    "np_b = np.array(b)"
   ]
  },
  {
   "cell_type": "code",
   "execution_count": 10,
   "id": "f4c2d368",
   "metadata": {},
   "outputs": [
    {
     "data": {
      "text/plain": [
       "array([ 5, 17, 34])"
      ]
     },
     "execution_count": 10,
     "metadata": {},
     "output_type": "execute_result"
    }
   ],
   "source": [
    "np_a + np_b"
   ]
  },
  {
   "cell_type": "code",
   "execution_count": 11,
   "id": "53ea6f88",
   "metadata": {},
   "outputs": [],
   "source": [
    "p = np.array([1,2,\"abc\"])"
   ]
  },
  {
   "cell_type": "code",
   "execution_count": 12,
   "id": "7596c7fc",
   "metadata": {},
   "outputs": [
    {
     "data": {
      "text/plain": [
       "array(['1', '2', 'abc'], dtype='<U21')"
      ]
     },
     "execution_count": 12,
     "metadata": {},
     "output_type": "execute_result"
    }
   ],
   "source": [
    "p"
   ]
  },
  {
   "cell_type": "code",
   "execution_count": 17,
   "id": "2427f9d5",
   "metadata": {
    "scrolled": true
   },
   "outputs": [
    {
     "ename": "UFuncTypeError",
     "evalue": "ufunc 'add' did not contain a loop with signature matching types (dtype('<U21'), dtype('int64')) -> None",
     "output_type": "error",
     "traceback": [
      "\u001b[0;31m---------------------------------------------------------------------------\u001b[0m",
      "\u001b[0;31mUFuncTypeError\u001b[0m                            Traceback (most recent call last)",
      "Cell \u001b[0;32mIn[17], line 1\u001b[0m\n\u001b[0;32m----> 1\u001b[0m p\u001b[38;5;241m+\u001b[39m np_a\n",
      "\u001b[0;31mUFuncTypeError\u001b[0m: ufunc 'add' did not contain a loop with signature matching types (dtype('<U21'), dtype('int64')) -> None"
     ]
    }
   ],
   "source": [
    "p+ np_a"
   ]
  },
  {
   "cell_type": "code",
   "execution_count": 18,
   "id": "9a9fd1eb",
   "metadata": {},
   "outputs": [
    {
     "data": {
      "text/plain": [
       "7"
      ]
     },
     "execution_count": 18,
     "metadata": {},
     "output_type": "execute_result"
    }
   ],
   "source": [
    "np_a.max()"
   ]
  },
  {
   "cell_type": "code",
   "execution_count": 19,
   "id": "6b20d0cb",
   "metadata": {},
   "outputs": [
    {
     "data": {
      "text/plain": [
       "4.666666666666667"
      ]
     },
     "execution_count": 19,
     "metadata": {},
     "output_type": "execute_result"
    }
   ],
   "source": [
    "np_a.mean()"
   ]
  },
  {
   "cell_type": "code",
   "execution_count": 20,
   "id": "cdb4fb5a",
   "metadata": {},
   "outputs": [
    {
     "data": {
      "text/plain": [
       "array([1., 1., 1.])"
      ]
     },
     "execution_count": 20,
     "metadata": {},
     "output_type": "execute_result"
    }
   ],
   "source": [
    "np.ones(3)"
   ]
  },
  {
   "cell_type": "code",
   "execution_count": 21,
   "id": "2f91e614",
   "metadata": {},
   "outputs": [
    {
     "data": {
      "text/plain": [
       "array([0., 0., 0.])"
      ]
     },
     "execution_count": 21,
     "metadata": {},
     "output_type": "execute_result"
    }
   ],
   "source": [
    "np.zeros(3)"
   ]
  },
  {
   "cell_type": "code",
   "execution_count": 22,
   "id": "0f506dcf",
   "metadata": {},
   "outputs": [
    {
     "data": {
      "text/plain": [
       "array([2., 5., 7.])"
      ]
     },
     "execution_count": 22,
     "metadata": {},
     "output_type": "execute_result"
    }
   ],
   "source": [
    "np_a*np.ones(3)"
   ]
  },
  {
   "cell_type": "code",
   "execution_count": 23,
   "id": "bddabd58",
   "metadata": {},
   "outputs": [
    {
     "data": {
      "text/plain": [
       "array([ 6, 15, 21])"
      ]
     },
     "execution_count": 23,
     "metadata": {},
     "output_type": "execute_result"
    }
   ],
   "source": [
    "np_a*[3]"
   ]
  },
  {
   "cell_type": "code",
   "execution_count": 24,
   "id": "bcfb05a5",
   "metadata": {},
   "outputs": [
    {
     "data": {
      "text/plain": [
       "array([ 4.4, 11. , 15.4])"
      ]
     },
     "execution_count": 24,
     "metadata": {},
     "output_type": "execute_result"
    }
   ],
   "source": [
    "np_a*np.array([2.2])"
   ]
  },
  {
   "cell_type": "code",
   "execution_count": 25,
   "id": "5c2dbd16",
   "metadata": {},
   "outputs": [
    {
     "ename": "ValueError",
     "evalue": "operands could not be broadcast together with shapes (3,) (2,) ",
     "output_type": "error",
     "traceback": [
      "\u001b[0;31m---------------------------------------------------------------------------\u001b[0m",
      "\u001b[0;31mValueError\u001b[0m                                Traceback (most recent call last)",
      "Cell \u001b[0;32mIn[25], line 1\u001b[0m\n\u001b[0;32m----> 1\u001b[0m np_a\u001b[38;5;241m*\u001b[39mnp\u001b[38;5;241m.\u001b[39marray([\u001b[38;5;241m2.2\u001b[39m,\u001b[38;5;241m3.2\u001b[39m])\n",
      "\u001b[0;31mValueError\u001b[0m: operands could not be broadcast together with shapes (3,) (2,) "
     ]
    }
   ],
   "source": [
    "np_a*np.array([2.2,3.2])"
   ]
  },
  {
   "cell_type": "code",
   "execution_count": 26,
   "id": "447c664f",
   "metadata": {},
   "outputs": [
    {
     "data": {
      "text/plain": [
       "5"
      ]
     },
     "execution_count": 26,
     "metadata": {},
     "output_type": "execute_result"
    }
   ],
   "source": [
    "np_a[1]"
   ]
  },
  {
   "cell_type": "code",
   "execution_count": 27,
   "id": "121df768",
   "metadata": {},
   "outputs": [
    {
     "data": {
      "text/plain": [
       "array([5, 7])"
      ]
     },
     "execution_count": 27,
     "metadata": {},
     "output_type": "execute_result"
    }
   ],
   "source": [
    "np_a[1:]"
   ]
  },
  {
   "cell_type": "code",
   "execution_count": 28,
   "id": "b57d393a",
   "metadata": {},
   "outputs": [
    {
     "data": {
      "text/plain": [
       "array([2, 5])"
      ]
     },
     "execution_count": 28,
     "metadata": {},
     "output_type": "execute_result"
    }
   ],
   "source": [
    "np_a[0:2]"
   ]
  },
  {
   "cell_type": "code",
   "execution_count": 29,
   "id": "20a1d70e",
   "metadata": {},
   "outputs": [],
   "source": [
    "np_2d = np.array([[1,2],[3,4]])"
   ]
  },
  {
   "cell_type": "code",
   "execution_count": 30,
   "id": "f28570aa",
   "metadata": {},
   "outputs": [
    {
     "data": {
      "text/plain": [
       "array([[1, 2],\n",
       "       [3, 4]])"
      ]
     },
     "execution_count": 30,
     "metadata": {},
     "output_type": "execute_result"
    }
   ],
   "source": [
    "np_2d"
   ]
  },
  {
   "cell_type": "code",
   "execution_count": 31,
   "id": "742f24d3",
   "metadata": {},
   "outputs": [
    {
     "data": {
      "text/plain": [
       "10"
      ]
     },
     "execution_count": 31,
     "metadata": {},
     "output_type": "execute_result"
    }
   ],
   "source": [
    "np_2d.sum()"
   ]
  },
  {
   "cell_type": "code",
   "execution_count": 32,
   "id": "bc4a4677",
   "metadata": {},
   "outputs": [
    {
     "data": {
      "text/plain": [
       "array([4, 6])"
      ]
     },
     "execution_count": 32,
     "metadata": {},
     "output_type": "execute_result"
    }
   ],
   "source": [
    "np_2d.sum(axis=0)"
   ]
  },
  {
   "cell_type": "code",
   "execution_count": 33,
   "id": "82349735",
   "metadata": {},
   "outputs": [
    {
     "data": {
      "text/plain": [
       "array([3, 7])"
      ]
     },
     "execution_count": 33,
     "metadata": {},
     "output_type": "execute_result"
    }
   ],
   "source": [
    "#Sum of rows\n",
    "np_2d.sum(axis=1)"
   ]
  },
  {
   "cell_type": "code",
   "execution_count": 34,
   "id": "05b1b764",
   "metadata": {},
   "outputs": [
    {
     "ename": "TypeError",
     "evalue": "'numpy.ndarray' object is not callable",
     "output_type": "error",
     "traceback": [
      "\u001b[0;31m---------------------------------------------------------------------------\u001b[0m",
      "\u001b[0;31mTypeError\u001b[0m                                 Traceback (most recent call last)",
      "Cell \u001b[0;32mIn[34], line 1\u001b[0m\n\u001b[0;32m----> 1\u001b[0m np_2d\u001b[38;5;241m.\u001b[39mT()\n",
      "\u001b[0;31mTypeError\u001b[0m: 'numpy.ndarray' object is not callable"
     ]
    }
   ],
   "source": [
    "np_2d.T()"
   ]
  },
  {
   "cell_type": "code",
   "execution_count": 35,
   "id": "c0bfe2d8",
   "metadata": {},
   "outputs": [
    {
     "data": {
      "text/plain": [
       "array([[1, 3],\n",
       "       [2, 4]])"
      ]
     },
     "execution_count": 35,
     "metadata": {},
     "output_type": "execute_result"
    }
   ],
   "source": [
    "# Transpose\n",
    "np_2d.T"
   ]
  },
  {
   "cell_type": "code",
   "execution_count": 36,
   "id": "9815b626",
   "metadata": {},
   "outputs": [
    {
     "data": {
      "text/plain": [
       "array([[1., 1.],\n",
       "       [1., 1.]])"
      ]
     },
     "execution_count": 36,
     "metadata": {},
     "output_type": "execute_result"
    }
   ],
   "source": [
    "np.ones([2,2])"
   ]
  },
  {
   "cell_type": "code",
   "execution_count": 37,
   "id": "a2a19ba4",
   "metadata": {},
   "outputs": [
    {
     "data": {
      "text/plain": [
       "array([[1., 0.],\n",
       "       [0., 1.]])"
      ]
     },
     "execution_count": 37,
     "metadata": {},
     "output_type": "execute_result"
    }
   ],
   "source": [
    "# Identity matrix\n",
    "np.eye(2)"
   ]
  },
  {
   "cell_type": "code",
   "execution_count": 38,
   "id": "e40be6c0",
   "metadata": {},
   "outputs": [
    {
     "data": {
      "text/plain": [
       "array([[1., 0., 0.],\n",
       "       [0., 1., 0.],\n",
       "       [0., 0., 1.]])"
      ]
     },
     "execution_count": 38,
     "metadata": {},
     "output_type": "execute_result"
    }
   ],
   "source": [
    "np.eye(3)"
   ]
  },
  {
   "cell_type": "code",
   "execution_count": 39,
   "id": "57213d72",
   "metadata": {},
   "outputs": [
    {
     "data": {
      "text/plain": [
       "array([[1, 2],\n",
       "       [3, 4]])"
      ]
     },
     "execution_count": 39,
     "metadata": {},
     "output_type": "execute_result"
    }
   ],
   "source": [
    "np_2d"
   ]
  },
  {
   "cell_type": "code",
   "execution_count": 40,
   "id": "54583779",
   "metadata": {},
   "outputs": [
    {
     "data": {
      "text/plain": [
       "array([[2., 3.],\n",
       "       [4., 5.]])"
      ]
     },
     "execution_count": 40,
     "metadata": {},
     "output_type": "execute_result"
    }
   ],
   "source": [
    "np_2d+np.ones([2,2])"
   ]
  },
  {
   "cell_type": "code",
   "execution_count": 41,
   "id": "87eadd94",
   "metadata": {},
   "outputs": [
    {
     "data": {
      "text/plain": [
       "array([[2., 3.],\n",
       "       [4., 5.]])"
      ]
     },
     "execution_count": 41,
     "metadata": {},
     "output_type": "execute_result"
    }
   ],
   "source": [
    "# Numpy does broadcasting. It will match (np.ones(2)) to the elements in np_2d to do the addition\n",
    "np_2d+np.ones(2)"
   ]
  },
  {
   "cell_type": "code",
   "execution_count": 42,
   "id": "a5895d0a",
   "metadata": {},
   "outputs": [],
   "source": [
    "np_3d = np.array([[1, 2, 3], [3, 4, 5], [5, 6, 7]])"
   ]
  },
  {
   "cell_type": "code",
   "execution_count": 43,
   "id": "c8e26cf1",
   "metadata": {},
   "outputs": [
    {
     "data": {
      "text/plain": [
       "array([[1, 2, 3],\n",
       "       [3, 4, 5],\n",
       "       [5, 6, 7]])"
      ]
     },
     "execution_count": 43,
     "metadata": {},
     "output_type": "execute_result"
    }
   ],
   "source": [
    "np_3d"
   ]
  },
  {
   "cell_type": "code",
   "execution_count": 44,
   "id": "4f8dc795",
   "metadata": {},
   "outputs": [
    {
     "ename": "ValueError",
     "evalue": "operands could not be broadcast together with shapes (3,3) (2,) ",
     "output_type": "error",
     "traceback": [
      "\u001b[0;31m---------------------------------------------------------------------------\u001b[0m",
      "\u001b[0;31mValueError\u001b[0m                                Traceback (most recent call last)",
      "Cell \u001b[0;32mIn[44], line 1\u001b[0m\n\u001b[0;32m----> 1\u001b[0m np_3d \u001b[38;5;241m+\u001b[39m np\u001b[38;5;241m.\u001b[39mones(\u001b[38;5;241m2\u001b[39m)\n",
      "\u001b[0;31mValueError\u001b[0m: operands could not be broadcast together with shapes (3,3) (2,) "
     ]
    }
   ],
   "source": [
    "np_3d + np.ones(2)"
   ]
  },
  {
   "cell_type": "code",
   "execution_count": 45,
   "id": "cdc3c97f",
   "metadata": {},
   "outputs": [
    {
     "data": {
      "text/plain": [
       "array([[2., 3.],\n",
       "       [4., 5.]])"
      ]
     },
     "execution_count": 45,
     "metadata": {},
     "output_type": "execute_result"
    }
   ],
   "source": [
    "np_2d+np.ones(2)"
   ]
  },
  {
   "cell_type": "code",
   "execution_count": 46,
   "id": "8d0ca5db",
   "metadata": {},
   "outputs": [
    {
     "data": {
      "text/plain": [
       "array([[2., 3.],\n",
       "       [4., 5.]])"
      ]
     },
     "execution_count": 46,
     "metadata": {},
     "output_type": "execute_result"
    }
   ],
   "source": [
    "np_2d+np.ones([2,1])"
   ]
  },
  {
   "cell_type": "code",
   "execution_count": 47,
   "id": "e19aacc8",
   "metadata": {},
   "outputs": [],
   "source": [
    "# Dot Product\n",
    "np_dotp = np_2d.dot(np.array([[1,10,100],[1000,100,10]]))"
   ]
  },
  {
   "cell_type": "code",
   "execution_count": 48,
   "id": "91cf6331",
   "metadata": {},
   "outputs": [
    {
     "data": {
      "text/plain": [
       "array([[2001,  210,  120],\n",
       "       [4003,  430,  340]])"
      ]
     },
     "execution_count": 48,
     "metadata": {},
     "output_type": "execute_result"
    }
   ],
   "source": [
    "np_dotp"
   ]
  },
  {
   "cell_type": "code",
   "execution_count": 49,
   "id": "98ae8064",
   "metadata": {},
   "outputs": [
    {
     "data": {
      "text/plain": [
       "210"
      ]
     },
     "execution_count": 49,
     "metadata": {},
     "output_type": "execute_result"
    }
   ],
   "source": [
    "np_dotp[0,1]"
   ]
  },
  {
   "cell_type": "code",
   "execution_count": 50,
   "id": "cbc1b40b",
   "metadata": {},
   "outputs": [
    {
     "data": {
      "text/plain": [
       "array([[4003,  430,  340]])"
      ]
     },
     "execution_count": 50,
     "metadata": {},
     "output_type": "execute_result"
    }
   ],
   "source": [
    "np_dotp[1:3]"
   ]
  },
  {
   "cell_type": "code",
   "execution_count": 51,
   "id": "45186705",
   "metadata": {},
   "outputs": [
    {
     "data": {
      "text/plain": [
       "array([2001, 4003])"
      ]
     },
     "execution_count": 51,
     "metadata": {},
     "output_type": "execute_result"
    }
   ],
   "source": [
    "np_dotp[0:2,0]"
   ]
  },
  {
   "cell_type": "code",
   "execution_count": 52,
   "id": "b1c39f6a",
   "metadata": {},
   "outputs": [],
   "source": [
    "np_rs = np.array([1,2,3,4,5,6])"
   ]
  },
  {
   "cell_type": "code",
   "execution_count": 53,
   "id": "f2feaa22",
   "metadata": {},
   "outputs": [
    {
     "data": {
      "text/plain": [
       "array([1, 2, 3, 4, 5, 6])"
      ]
     },
     "execution_count": 53,
     "metadata": {},
     "output_type": "execute_result"
    }
   ],
   "source": [
    "np_rs"
   ]
  },
  {
   "cell_type": "code",
   "execution_count": 54,
   "id": "9800a502",
   "metadata": {},
   "outputs": [
    {
     "data": {
      "text/plain": [
       "array([[1, 2, 3],\n",
       "       [4, 5, 6]])"
      ]
     },
     "execution_count": 54,
     "metadata": {},
     "output_type": "execute_result"
    }
   ],
   "source": [
    "np_rs.reshape(2,3)"
   ]
  },
  {
   "cell_type": "code",
   "execution_count": 55,
   "id": "0dae4fcf",
   "metadata": {},
   "outputs": [
    {
     "data": {
      "text/plain": [
       "array([[1, 2],\n",
       "       [3, 4],\n",
       "       [5, 6]])"
      ]
     },
     "execution_count": 55,
     "metadata": {},
     "output_type": "execute_result"
    }
   ],
   "source": [
    "np_rs.reshape(3,2)"
   ]
  },
  {
   "cell_type": "code",
   "execution_count": 56,
   "id": "d556ffed",
   "metadata": {},
   "outputs": [
    {
     "data": {
      "text/plain": [
       "array([[1, 2],\n",
       "       [3, 4],\n",
       "       [5, 6]])"
      ]
     },
     "execution_count": 56,
     "metadata": {},
     "output_type": "execute_result"
    }
   ],
   "source": [
    "#Use -1 to tell Numpy to figure out the number of columns\n",
    "np_rs.reshape(3,-1)"
   ]
  },
  {
   "cell_type": "code",
   "execution_count": 57,
   "id": "db952d1d",
   "metadata": {},
   "outputs": [
    {
     "ename": "ValueError",
     "evalue": "cannot reshape array of size 6 into shape (4,newaxis)",
     "output_type": "error",
     "traceback": [
      "\u001b[0;31m---------------------------------------------------------------------------\u001b[0m",
      "\u001b[0;31mValueError\u001b[0m                                Traceback (most recent call last)",
      "Cell \u001b[0;32mIn[57], line 1\u001b[0m\n\u001b[0;32m----> 1\u001b[0m np_rs\u001b[38;5;241m.\u001b[39mreshape(\u001b[38;5;241m4\u001b[39m,\u001b[38;5;241m-\u001b[39m\u001b[38;5;241m1\u001b[39m)\n",
      "\u001b[0;31mValueError\u001b[0m: cannot reshape array of size 6 into shape (4,newaxis)"
     ]
    }
   ],
   "source": [
    "np_rs.reshape(4,-1)"
   ]
  },
  {
   "cell_type": "code",
   "execution_count": 58,
   "id": "b53c8a9c",
   "metadata": {},
   "outputs": [
    {
     "data": {
      "text/plain": [
       "array([[1, 2, 3],\n",
       "       [4, 5, 6]])"
      ]
     },
     "execution_count": 58,
     "metadata": {},
     "output_type": "execute_result"
    }
   ],
   "source": [
    "np_rs.reshape(2,-1)"
   ]
  },
  {
   "cell_type": "code",
   "execution_count": 59,
   "id": "d1d8816c",
   "metadata": {},
   "outputs": [
    {
     "ename": "ValueError",
     "evalue": "cannot reshape array of size 6 into shape (2,2,newaxis)",
     "output_type": "error",
     "traceback": [
      "\u001b[0;31m---------------------------------------------------------------------------\u001b[0m",
      "\u001b[0;31mValueError\u001b[0m                                Traceback (most recent call last)",
      "Cell \u001b[0;32mIn[59], line 1\u001b[0m\n\u001b[0;32m----> 1\u001b[0m np_rs\u001b[38;5;241m.\u001b[39mreshape(\u001b[38;5;241m2\u001b[39m,\u001b[38;5;241m2\u001b[39m,\u001b[38;5;241m-\u001b[39m\u001b[38;5;241m1\u001b[39m)\n",
      "\u001b[0;31mValueError\u001b[0m: cannot reshape array of size 6 into shape (2,2,newaxis)"
     ]
    }
   ],
   "source": [
    "np_rs.reshape(2,2,-1)"
   ]
  },
  {
   "cell_type": "code",
   "execution_count": 60,
   "id": "47ded2fd",
   "metadata": {},
   "outputs": [
    {
     "data": {
      "text/plain": [
       "array([[1, 2, 3],\n",
       "       [4, 5, 6]])"
      ]
     },
     "execution_count": 60,
     "metadata": {},
     "output_type": "execute_result"
    }
   ],
   "source": [
    "# Also use -1 to tell Numpy to figure out the number of rows\n",
    "np_rs.reshape(-1,3)"
   ]
  },
  {
   "cell_type": "code",
   "execution_count": 61,
   "id": "f552302c",
   "metadata": {},
   "outputs": [
    {
     "ename": "TypeError",
     "evalue": "'module' object is not callable",
     "output_type": "error",
     "traceback": [
      "\u001b[0;31m---------------------------------------------------------------------------\u001b[0m",
      "\u001b[0;31mTypeError\u001b[0m                                 Traceback (most recent call last)",
      "Cell \u001b[0;32mIn[61], line 1\u001b[0m\n\u001b[0;32m----> 1\u001b[0m np\u001b[38;5;241m.\u001b[39mrandom(\u001b[38;5;241m2\u001b[39m)\n",
      "\u001b[0;31mTypeError\u001b[0m: 'module' object is not callable"
     ]
    }
   ],
   "source": [
    "np.random(2)"
   ]
  },
  {
   "cell_type": "code",
   "execution_count": 62,
   "id": "41fb9382",
   "metadata": {},
   "outputs": [
    {
     "data": {
      "text/plain": [
       "array([0.28666165, 0.01685708])"
      ]
     },
     "execution_count": 62,
     "metadata": {},
     "output_type": "execute_result"
    }
   ],
   "source": [
    "np.random.random(2)"
   ]
  },
  {
   "cell_type": "code",
   "execution_count": 63,
   "id": "153b11b5",
   "metadata": {},
   "outputs": [
    {
     "ename": "ModuleNotFoundError",
     "evalue": "No module named 'np'",
     "output_type": "error",
     "traceback": [
      "\u001b[0;31m---------------------------------------------------------------------------\u001b[0m",
      "\u001b[0;31mModuleNotFoundError\u001b[0m                       Traceback (most recent call last)",
      "Cell \u001b[0;32mIn[63], line 1\u001b[0m\n\u001b[0;32m----> 1\u001b[0m \u001b[38;5;28;01mimport\u001b[39;00m \u001b[38;5;21;01mnp\u001b[39;00m\u001b[38;5;21;01m.\u001b[39;00m\u001b[38;5;21;01mrandom\u001b[39;00m \u001b[38;5;28;01mas\u001b[39;00m \u001b[38;5;21;01mrandom\u001b[39;00m\n",
      "\u001b[0;31mModuleNotFoundError\u001b[0m: No module named 'np'"
     ]
    }
   ],
   "source": [
    "import np.random as random"
   ]
  },
  {
   "cell_type": "code",
   "execution_count": 64,
   "id": "f14c1645",
   "metadata": {},
   "outputs": [],
   "source": [
    "import numpy.random as random"
   ]
  },
  {
   "cell_type": "code",
   "execution_count": 65,
   "id": "12b02be0",
   "metadata": {},
   "outputs": [
    {
     "ename": "TypeError",
     "evalue": "'module' object is not callable",
     "output_type": "error",
     "traceback": [
      "\u001b[0;31m---------------------------------------------------------------------------\u001b[0m",
      "\u001b[0;31mTypeError\u001b[0m                                 Traceback (most recent call last)",
      "Cell \u001b[0;32mIn[65], line 1\u001b[0m\n\u001b[0;32m----> 1\u001b[0m random(\u001b[38;5;241m2\u001b[39m)\n",
      "\u001b[0;31mTypeError\u001b[0m: 'module' object is not callable"
     ]
    }
   ],
   "source": [
    "random(2)"
   ]
  },
  {
   "cell_type": "code",
   "execution_count": 66,
   "id": "29fd7c12",
   "metadata": {},
   "outputs": [
    {
     "data": {
      "text/plain": [
       "array([0.96285547, 0.77145415])"
      ]
     },
     "execution_count": 66,
     "metadata": {},
     "output_type": "execute_result"
    }
   ],
   "source": [
    "random.random(2)"
   ]
  },
  {
   "cell_type": "code",
   "execution_count": 67,
   "id": "50e77f01",
   "metadata": {},
   "outputs": [
    {
     "data": {
      "text/plain": [
       "array([[0.19203754, 0.49856968],\n",
       "       [0.31567609, 0.37811023],\n",
       "       [0.84758123, 0.81043102]])"
      ]
     },
     "execution_count": 67,
     "metadata": {},
     "output_type": "execute_result"
    }
   ],
   "source": [
    "random.random([3,2])"
   ]
  },
  {
   "cell_type": "code",
   "execution_count": 68,
   "id": "5be6ad52",
   "metadata": {},
   "outputs": [],
   "source": [
    "# Linear Algebra\n",
    "\n",
    "import numpy.linalg as la"
   ]
  },
  {
   "cell_type": "code",
   "execution_count": 69,
   "id": "c91badea",
   "metadata": {},
   "outputs": [
    {
     "data": {
      "text/plain": [
       "array([[-2. ,  1. ],\n",
       "       [ 1.5, -0.5]])"
      ]
     },
     "execution_count": 69,
     "metadata": {},
     "output_type": "execute_result"
    }
   ],
   "source": [
    "la.inv(np_2d)"
   ]
  },
  {
   "cell_type": "code",
   "execution_count": 70,
   "id": "190d9150",
   "metadata": {},
   "outputs": [
    {
     "data": {
      "text/plain": [
       "EigResult(eigenvalues=array([-0.37228132,  5.37228132]), eigenvectors=array([[-0.82456484, -0.41597356],\n",
       "       [ 0.56576746, -0.90937671]]))"
      ]
     },
     "execution_count": 70,
     "metadata": {},
     "output_type": "execute_result"
    }
   ],
   "source": [
    "la.eig(np_2d)"
   ]
  },
  {
   "cell_type": "code",
   "execution_count": 71,
   "id": "2e922a01",
   "metadata": {},
   "outputs": [
    {
     "data": {
      "text/plain": [
       "SVDResult(U=array([[-0.40455358, -0.9145143 ],\n",
       "       [-0.9145143 ,  0.40455358]]), S=array([5.4649857 , 0.36596619]), Vh=array([[-0.57604844, -0.81741556],\n",
       "       [ 0.81741556, -0.57604844]]))"
      ]
     },
     "execution_count": 71,
     "metadata": {},
     "output_type": "execute_result"
    }
   ],
   "source": [
    "# Singular value decomposition\n",
    "la.svd(np_2d)"
   ]
  },
  {
   "cell_type": "code",
   "execution_count": 72,
   "id": "a441edcb",
   "metadata": {},
   "outputs": [
    {
     "data": {
      "text/plain": [
       "array([[-2. ,  1. ],\n",
       "       [ 1.5, -0.5]])"
      ]
     },
     "execution_count": 72,
     "metadata": {},
     "output_type": "execute_result"
    }
   ],
   "source": [
    "# Pseudo inverse\n",
    "la.pinv(np_2d)"
   ]
  },
  {
   "cell_type": "code",
   "execution_count": 73,
   "id": "0b049bfc",
   "metadata": {},
   "outputs": [
    {
     "data": {
      "text/plain": [
       "array([[0.20620916, 4.27756945, 1.39937412],\n",
       "       [4.06931079, 0.52888366, 3.50489417]])"
      ]
     },
     "execution_count": 73,
     "metadata": {},
     "output_type": "execute_result"
    }
   ],
   "source": [
    "# Random nos from a uniform distribution\n",
    "random.rand(2,3)*5"
   ]
  },
  {
   "cell_type": "code",
   "execution_count": 74,
   "id": "6c0ec0e3",
   "metadata": {},
   "outputs": [
    {
     "data": {
      "text/plain": [
       "array([[-0.31216725,  0.27131341, -1.30537784],\n",
       "       [-0.8296033 , -0.82179064, -0.50276351]])"
      ]
     },
     "execution_count": 74,
     "metadata": {},
     "output_type": "execute_result"
    }
   ],
   "source": [
    "# Random nos from a normal distribution\n",
    "random.randn(2,3)"
   ]
  },
  {
   "cell_type": "raw",
   "id": "9a427a24",
   "metadata": {},
   "source": [
    "random.randint(-2,5,3)"
   ]
  },
  {
   "cell_type": "code",
   "execution_count": 75,
   "id": "2a7e897a",
   "metadata": {},
   "outputs": [
    {
     "data": {
      "text/plain": [
       "array([ 2, -1, -2, -1,  1])"
      ]
     },
     "execution_count": 75,
     "metadata": {},
     "output_type": "execute_result"
    }
   ],
   "source": [
    "random.randint(-2,3,5)"
   ]
  },
  {
   "cell_type": "code",
   "execution_count": 76,
   "id": "9743d90d",
   "metadata": {},
   "outputs": [
    {
     "data": {
      "text/plain": [
       "array([1, 2, 3, 4, 5, 6])"
      ]
     },
     "execution_count": 76,
     "metadata": {},
     "output_type": "execute_result"
    }
   ],
   "source": [
    "np_rs"
   ]
  },
  {
   "cell_type": "code",
   "execution_count": 77,
   "id": "52b331b2",
   "metadata": {},
   "outputs": [],
   "source": [
    "# Suffle is useful when you don't have a lot of data\n",
    "random.shuffle(np_rs)"
   ]
  },
  {
   "cell_type": "code",
   "execution_count": 78,
   "id": "cee749c4",
   "metadata": {},
   "outputs": [
    {
     "data": {
      "text/plain": [
       "array([6, 1, 3, 5, 2, 4])"
      ]
     },
     "execution_count": 78,
     "metadata": {},
     "output_type": "execute_result"
    }
   ],
   "source": [
    "np_rs"
   ]
  },
  {
   "cell_type": "code",
   "execution_count": 79,
   "id": "53d0e965",
   "metadata": {},
   "outputs": [
    {
     "data": {
      "text/plain": [
       "array([6, 3])"
      ]
     },
     "execution_count": 79,
     "metadata": {},
     "output_type": "execute_result"
    }
   ],
   "source": [
    "random.choice(np_rs, 2)"
   ]
  },
  {
   "cell_type": "code",
   "execution_count": 80,
   "id": "60f3d510",
   "metadata": {},
   "outputs": [
    {
     "data": {
      "text/plain": [
       "6"
      ]
     },
     "execution_count": 80,
     "metadata": {},
     "output_type": "execute_result"
    }
   ],
   "source": [
    "random.binomial(20,0.3)"
   ]
  },
  {
   "cell_type": "code",
   "execution_count": 81,
   "id": "f581cef6",
   "metadata": {},
   "outputs": [
    {
     "data": {
      "text/plain": [
       "array([3, 3, 7, 5, 6, 2, 9])"
      ]
     },
     "execution_count": 81,
     "metadata": {},
     "output_type": "execute_result"
    }
   ],
   "source": [
    "random.binomial(20, 0.3, 7)"
   ]
  },
  {
   "cell_type": "code",
   "execution_count": 82,
   "id": "316e609a",
   "metadata": {},
   "outputs": [
    {
     "data": {
      "text/plain": [
       "array([1.59258832, 0.09899363, 0.89046653, 0.08160006])"
      ]
     },
     "execution_count": 82,
     "metadata": {},
     "output_type": "execute_result"
    }
   ],
   "source": [
    "random.exponential(0.7,4)"
   ]
  },
  {
   "cell_type": "code",
   "execution_count": 83,
   "id": "c3c3da6e",
   "metadata": {},
   "outputs": [
    {
     "name": "stderr",
     "output_type": "stream",
     "text": [
      "UsageError: %%time is a cell magic, but the cell body is empty. Did you mean the line magic %time (single %)?\n"
     ]
    }
   ],
   "source": [
    "%%time\n"
   ]
  },
  {
   "cell_type": "code",
   "execution_count": 84,
   "id": "0df740eb",
   "metadata": {},
   "outputs": [
    {
     "data": {
      "text/plain": [
       "array([ -7.51647261,  -9.87900966, -14.47301886])"
      ]
     },
     "execution_count": 84,
     "metadata": {},
     "output_type": "execute_result"
    }
   ],
   "source": [
    "random.normal(-5,12,3)"
   ]
  },
  {
   "cell_type": "code",
   "execution_count": 85,
   "id": "ae4df0fe",
   "metadata": {},
   "outputs": [
    {
     "data": {
      "text/plain": [
       "array([-5.52172223,  2.08611929, -1.06895851, 16.50085613, -8.74276297,\n",
       "       -0.60089979, 11.91744544])"
      ]
     },
     "execution_count": 85,
     "metadata": {},
     "output_type": "execute_result"
    }
   ],
   "source": [
    "random.logistic(-2,4,7)"
   ]
  },
  {
   "cell_type": "code",
   "execution_count": 86,
   "id": "197bd554",
   "metadata": {},
   "outputs": [
    {
     "data": {
      "text/plain": [
       "(2, 2)"
      ]
     },
     "execution_count": 86,
     "metadata": {},
     "output_type": "execute_result"
    }
   ],
   "source": [
    "np_2d.shape"
   ]
  },
  {
   "cell_type": "code",
   "execution_count": 87,
   "id": "2f09cee7",
   "metadata": {},
   "outputs": [
    {
     "data": {
      "text/plain": [
       "dtype('int64')"
      ]
     },
     "execution_count": 87,
     "metadata": {},
     "output_type": "execute_result"
    }
   ],
   "source": [
    "np_2d.dtype"
   ]
  },
  {
   "cell_type": "code",
   "execution_count": 88,
   "id": "68058276",
   "metadata": {},
   "outputs": [
    {
     "data": {
      "text/plain": [
       "numpy.ndarray"
      ]
     },
     "execution_count": 88,
     "metadata": {},
     "output_type": "execute_result"
    }
   ],
   "source": [
    "type(np_2d)"
   ]
  },
  {
   "cell_type": "code",
   "execution_count": 89,
   "id": "188f8626",
   "metadata": {},
   "outputs": [
    {
     "data": {
      "text/plain": [
       "array([[1., 1.],\n",
       "       [1., 1.]])"
      ]
     },
     "execution_count": 89,
     "metadata": {},
     "output_type": "execute_result"
    }
   ],
   "source": [
    "np.vstack(np.ones([2,2]))"
   ]
  },
  {
   "cell_type": "code",
   "execution_count": 90,
   "id": "1c81dfac",
   "metadata": {},
   "outputs": [
    {
     "data": {
      "text/plain": [
       "array([[1., 2.],\n",
       "       [3., 4.],\n",
       "       [1., 1.],\n",
       "       [1., 1.]])"
      ]
     },
     "execution_count": 90,
     "metadata": {},
     "output_type": "execute_result"
    }
   ],
   "source": [
    "# Stack is like concatenate\n",
    "np.vstack((np_2d,np.ones([2,2])))"
   ]
  },
  {
   "cell_type": "code",
   "execution_count": 91,
   "id": "190dfbcf",
   "metadata": {},
   "outputs": [
    {
     "data": {
      "text/plain": [
       "array([[1., 2., 1., 1.],\n",
       "       [3., 4., 1., 1.]])"
      ]
     },
     "execution_count": 91,
     "metadata": {},
     "output_type": "execute_result"
    }
   ],
   "source": [
    "np.hstack((np_2d,np.ones([2,2])))"
   ]
  },
  {
   "cell_type": "code",
   "execution_count": 92,
   "id": "8cac5e59",
   "metadata": {},
   "outputs": [],
   "source": [
    "N=10000000\n",
    "x=list(range(N))\n",
    "y=list(range(N)) \n",
    "z=[]"
   ]
  },
  {
   "cell_type": "code",
   "execution_count": 93,
   "id": "eaf5a569",
   "metadata": {},
   "outputs": [],
   "source": [
    "np_x = np.array(x)\n",
    "np_y = np.array(y)"
   ]
  },
  {
   "cell_type": "code",
   "execution_count": 94,
   "id": "815dcb98",
   "metadata": {},
   "outputs": [
    {
     "name": "stdout",
     "output_type": "stream",
     "text": [
      "CPU times: user 472 ms, sys: 97.6 ms, total: 569 ms\n",
      "Wall time: 644 ms\n"
     ]
    }
   ],
   "source": [
    "%%time\n",
    "for i in range(len(x)):\n",
    "    z.append(x[i]+y[i])\n"
   ]
  },
  {
   "cell_type": "code",
   "execution_count": 95,
   "id": "42adb9fa",
   "metadata": {},
   "outputs": [
    {
     "name": "stdout",
     "output_type": "stream",
     "text": [
      "CPU times: user 6.44 ms, sys: 29.1 ms, total: 35.5 ms\n",
      "Wall time: 51.4 ms\n"
     ]
    }
   ],
   "source": [
    "%%time\n",
    "np_z = np_x+np_y"
   ]
  },
  {
   "cell_type": "markdown",
   "id": "448b5e11",
   "metadata": {},
   "source": [
    "### Assignment"
   ]
  },
  {
   "cell_type": "code",
   "execution_count": 101,
   "id": "d59d01e2",
   "metadata": {},
   "outputs": [],
   "source": [
    "np_ex = pd.read_csv(\"NumpyExerciseData.csv\")"
   ]
  },
  {
   "cell_type": "markdown",
   "id": "230b7b29",
   "metadata": {},
   "source": [
    "#### 1. Newton Method\n",
    "Perform this matrix computation -> ((X'X)^-1)*X'y, use only X and y values from rows 2 to 41"
   ]
  },
  {
   "cell_type": "code",
   "execution_count": 137,
   "id": "553bb517",
   "metadata": {},
   "outputs": [],
   "source": [
    "import csv"
   ]
  },
  {
   "cell_type": "code",
   "execution_count": 297,
   "id": "ef4bb8f3",
   "metadata": {},
   "outputs": [],
   "source": [
    "# Function to read the data\n",
    "def readData():\n",
    "    X =[]\n",
    "    y = []\n",
    "    with open('NumpyExerciseData.csv') as f:\n",
    "        rData = csv.reader(f)\n",
    "#         skip the column names\n",
    "        next(rData)\n",
    "#         read X and y\n",
    "        for line in rData:\n",
    "#             print(line)\n",
    "            xline = []\n",
    "            # exclude the empty cells which are from column 7\n",
    "            for s in line[:7]:\n",
    "#                 print(s)\n",
    "                xline.append(float(s.replace(' ','')))\n",
    "            X.append(xline)\n",
    "#         line 6 is the y column \n",
    "            y.append(float(line[6]))\n",
    "    return (X, y)"
   ]
  },
  {
   "cell_type": "code",
   "execution_count": 298,
   "id": "4262f398",
   "metadata": {},
   "outputs": [],
   "source": [
    "# Assign X and y vectors from the function\n",
    "X0, y0 = readData()"
   ]
  },
  {
   "cell_type": "code",
   "execution_count": 299,
   "id": "321153e3",
   "metadata": {},
   "outputs": [
    {
     "name": "stdout",
     "output_type": "stream",
     "text": [
      "First first 6 lines values of X0 :\n",
      " [[1.0, 5.768, 62.55, 0.0, 28.0, 2.6, 28.0], [1.0, 8.949, 66.91, 0.0, 27.0, -2.0, 46.0], [1.0, 1.024, 34.42, 0.0, 20.0, -3.4, 14.0], [1.0, 4.534, 47.93, 0.0, 10.0, 1.1, 17.0], [1.0, 8.641, 35.26, 0.0, 30.0, 3.8, 32.0], [1.0, 1.063, 42.14, 0.0, 6.0, -2.1, 8.0]] \n",
      "\n",
      "First first 6 lines values of y0 :\n",
      " [28.0, 46.0, 14.0, 17.0, 32.0, 8.0]\n"
     ]
    }
   ],
   "source": [
    "print(f'First first 6 lines values of X0 :\\n {X0[:6]} \\n')\n",
    "print(f'First first 6 lines values of y0 :\\n {y0[:6]}')"
   ]
  },
  {
   "cell_type": "code",
   "execution_count": 325,
   "id": "5be242f8",
   "metadata": {},
   "outputs": [],
   "source": [
    "# Convert rows 2 - 41 to numpy arrays for vectors X and y\n",
    "X = np.array(X0[1:42])\n",
    "y = np.transpose(np.array(y0[1:42]))"
   ]
  },
  {
   "cell_type": "code",
   "execution_count": 326,
   "id": "2d7f0c1b",
   "metadata": {},
   "outputs": [
    {
     "data": {
      "text/plain": [
       "array([46., 14., 17., 32.,  8., 30., 22., 24., 24., 43., 30., 20.,  2.,\n",
       "       19., 24., 22., 23., 25., 23., 34., 19., 46., 26., 28., 28., 33.,\n",
       "       28., 22., 33., 28., 20., 25., 28., 31., 33., 41., 32., 33., 36.,\n",
       "       58.,  5.])"
      ]
     },
     "execution_count": 326,
     "metadata": {},
     "output_type": "execute_result"
    }
   ],
   "source": [
    "y"
   ]
  },
  {
   "cell_type": "markdown",
   "id": "591ac76d",
   "metadata": {},
   "source": [
    "#### Compute the weight w"
   ]
  },
  {
   "cell_type": "code",
   "execution_count": 327,
   "id": "b35e92cc",
   "metadata": {},
   "outputs": [
    {
     "data": {
      "text/plain": [
       "array([[ 1.   ,  1.   ,  1.   ,  1.   ,  1.   ,  1.   ,  1.   ,  1.   ,\n",
       "         1.   ,  1.   ,  1.   ,  1.   ,  1.   ,  1.   ,  1.   ,  1.   ,\n",
       "         1.   ,  1.   ,  1.   ,  1.   ,  1.   ,  1.   ,  1.   ,  1.   ,\n",
       "         1.   ,  1.   ,  1.   ,  1.   ,  1.   ,  1.   ,  1.   ,  1.   ,\n",
       "         1.   ,  1.   ,  1.   ,  1.   ,  1.   ,  1.   ,  1.   ,  1.   ,\n",
       "         1.   ],\n",
       "       [ 8.949,  1.024,  4.534,  8.641,  1.063,  5.306,  4.309,  3.739,\n",
       "         3.816,  8.539,  7.129,  4.249, -2.99 ,  0.356,  5.487,  5.699,\n",
       "        -0.373,  3.9  ,  3.616,  9.103,  2.714,  6.885, -0.85 ,  5.511,\n",
       "         5.225,  7.982,  4.361,  2.853,  2.777,  1.977,  3.784,  3.043,\n",
       "         5.618,  7.374,  3.09 ,  6.178,  4.605,  1.968,  3.61 ,  9.896,\n",
       "        -0.256],\n",
       "       [66.91 , 34.42 , 47.93 , 35.26 , 42.14 , 39.8  , 36.14 , 44.53 ,\n",
       "        60.01 , 36.9  , 35.77 , 37.17 , 42.41 , 57.67 , 35.25 , 62.15 ,\n",
       "        38.38 , 40.53 , 35.91 , 59.6  , 43.54 , 35.66 , 43.94 , 58.96 ,\n",
       "        45.25 , 43.71 , 52.71 , 51.12 , 38.6  , 49.07 , 45.44 , 62.5  ,\n",
       "        52.44 , 38.25 , 56.77 , 61.51 , 58.22 , 65.84 , 45.18 , 65.18 ,\n",
       "        53.7  ],\n",
       "       [ 0.   ,  0.   ,  0.   ,  0.   ,  0.   ,  0.   ,  0.   ,  0.   ,\n",
       "         0.   ,  0.   ,  0.   ,  0.   ,  0.   ,  0.   ,  0.   ,  0.   ,\n",
       "         1.   ,  0.   ,  1.   ,  0.   ,  0.   ,  1.   ,  1.   ,  0.   ,\n",
       "         0.   ,  0.   ,  0.   ,  0.   ,  1.   ,  0.   ,  0.   ,  0.   ,\n",
       "         0.   ,  0.   ,  0.   ,  1.   ,  0.   ,  0.   ,  1.   ,  0.   ,\n",
       "         0.   ],\n",
       "       [27.   , 20.   , 10.   , 30.   ,  6.   , 29.   , 12.   , 39.   ,\n",
       "        10.   , 31.   , 38.   , 23.   , 20.   , 26.   , 10.   , 13.   ,\n",
       "        42.   , 23.   , 16.   , 14.   , 37.   , 20.   , 31.   ,  6.   ,\n",
       "        24.   , 27.   , 22.   , 42.   , 24.   , 41.   , 12.   , 25.   ,\n",
       "        27.   , 36.   , 49.   ,  6.   , 41.   , 76.   , 43.   , 69.   ,\n",
       "        13.   ],\n",
       "       [-2.   , -3.4  ,  1.1  ,  3.8  , -2.1  , -1.8  , -3.4  ,  1.9  ,\n",
       "        -3.4  , -3.   ,  3.5  ,  0.8  , -3.1  , -3.8  , -2.8  ,  2.4  ,\n",
       "         2.   , -2.5  ,  3.1  ,  2.2  ,  2.1  , -3.7  , -3.2  , -3.8  ,\n",
       "        -1.3  ,  2.   , -2.5  ,  2.3  , -2.5  , -3.6  , -1.9  , -1.9  ,\n",
       "         1.1  ,  3.1  , -1.7  , -2.5  ,  0.2  ,  3.5  ,  2.5  ,  2.3  ,\n",
       "         0.3  ],\n",
       "       [46.   , 14.   , 17.   , 32.   ,  8.   , 30.   , 22.   , 24.   ,\n",
       "        24.   , 43.   , 30.   , 20.   ,  2.   , 19.   , 24.   , 22.   ,\n",
       "        23.   , 25.   , 23.   , 34.   , 19.   , 46.   , 26.   , 28.   ,\n",
       "        28.   , 33.   , 28.   , 22.   , 33.   , 28.   , 20.   , 25.   ,\n",
       "        28.   , 31.   , 33.   , 41.   , 32.   , 33.   , 36.   , 58.   ,\n",
       "         5.   ]])"
      ]
     },
     "execution_count": 327,
     "metadata": {},
     "output_type": "execute_result"
    }
   ],
   "source": [
    "# Find X transpose\n",
    "Xt = np.transpose(X)\n",
    "Xt"
   ]
  },
  {
   "cell_type": "code",
   "execution_count": 328,
   "id": "8428a95e",
   "metadata": {},
   "outputs": [
    {
     "data": {
      "text/plain": [
       "array([[ 4.10000000e+01,  1.74441000e+02,  1.95647000e+03,\n",
       "         7.00000000e+00,  1.11000000e+03, -1.97000000e+01,\n",
       "         1.11500000e+03],\n",
       "       [ 1.74441000e+02,  1.08647661e+03,  8.45150227e+03,\n",
       "         2.18430000e+01,  4.78312800e+03,  1.50590000e+00,\n",
       "         5.67878400e+03],\n",
       "       [ 1.95647000e+03,  8.45150227e+03,  9.75721283e+04,\n",
       "         2.99180000e+02,  5.41605600e+04, -9.26597000e+02,\n",
       "         5.43339200e+04],\n",
       "       [ 7.00000000e+00,  2.18430000e+01,  2.99180000e+02,\n",
       "         7.00000000e+00,  1.82000000e+02, -4.30000000e+00,\n",
       "         2.28000000e+02],\n",
       "       [ 1.11000000e+03,  4.78312800e+03,  5.41605600e+04,\n",
       "         1.82000000e+02,  3.98380000e+04,  2.00700000e+02,\n",
       "         3.30630000e+04],\n",
       "       [-1.97000000e+01,  1.50590000e+00, -9.26597000e+02,\n",
       "        -4.30000000e+00,  2.00700000e+02,  2.80150000e+02,\n",
       "        -4.15500000e+02],\n",
       "       [ 1.11500000e+03,  5.67878400e+03,  5.43339200e+04,\n",
       "         2.28000000e+02,  3.30630000e+04, -4.15500000e+02,\n",
       "         3.49270000e+04]])"
      ]
     },
     "execution_count": 328,
     "metadata": {},
     "output_type": "execute_result"
    }
   ],
   "source": [
    "XtX = np.dot(Xt, X)\n",
    "XtX"
   ]
  },
  {
   "cell_type": "code",
   "execution_count": 329,
   "id": "ec9a9b69",
   "metadata": {},
   "outputs": [
    {
     "data": {
      "text/plain": [
       "(7, 7)"
      ]
     },
     "execution_count": 329,
     "metadata": {},
     "output_type": "execute_result"
    }
   ],
   "source": [
    "XtX.shape"
   ]
  },
  {
   "cell_type": "code",
   "execution_count": 330,
   "id": "1be39a66",
   "metadata": {},
   "outputs": [
    {
     "data": {
      "text/plain": [
       "array([ 1115.   ,  5678.784, 54333.92 ,   228.   , 33063.   ,  -415.5  ,\n",
       "       34927.   ])"
      ]
     },
     "execution_count": 330,
     "metadata": {},
     "output_type": "execute_result"
    }
   ],
   "source": [
    "Xty = np.dot(Xt, y)\n",
    "Xty"
   ]
  },
  {
   "cell_type": "code",
   "execution_count": 331,
   "id": "101f84f3",
   "metadata": {},
   "outputs": [
    {
     "data": {
      "text/plain": [
       "array([ 5.88412456e-12, -2.48529495e-12, -1.25645091e-13, -9.26733117e-12,\n",
       "       -2.90811094e-13,  1.20718133e-12,  1.00000000e+00])"
      ]
     },
     "execution_count": 331,
     "metadata": {},
     "output_type": "execute_result"
    }
   ],
   "source": [
    "# Computing weight w\n",
    "w = np.linalg.solve(XtX, Xty)\n",
    "w"
   ]
  },
  {
   "cell_type": "markdown",
   "id": "c93009e2",
   "metadata": {},
   "source": [
    "#### 2. Error Computation (both Training and Test Error)\n",
    "a. Generate y values from the new generated w values\n",
    "\n",
    "b. Compute the SSR, MSR and RMSE between the generated y values and the actual values both for the data from rows 2 to 41 and the data from rows 43 to 51"
   ]
  },
  {
   "cell_type": "code",
   "execution_count": 333,
   "id": "4d72ed59",
   "metadata": {},
   "outputs": [],
   "source": [
    "Xtest, ytest = X0[43:52], y0[43:52]"
   ]
  },
  {
   "cell_type": "code",
   "execution_count": 334,
   "id": "fe49d350",
   "metadata": {},
   "outputs": [
    {
     "name": "stdout",
     "output_type": "stream",
     "text": [
      " Prediction = 10.000000000000243, Actual = 10.0\n",
      " Prediction = 19.999999999999837, Actual = 20.0\n",
      " Prediction = 6.000000000000402, Actual = 6.0\n",
      " Prediction = 28.00000000000006, Actual = 28.0\n",
      " Prediction = -1.0000000000002096, Actual = -1.0\n",
      " Prediction = 25.000000000000124, Actual = 25.0\n",
      " Prediction = 34.000000000000384, Actual = 34.0\n"
     ]
    }
   ],
   "source": [
    "# Making predictions\n",
    "for data, actual in zip(Xtest, ytest):\n",
    "    x = np.array([data])\n",
    "    prediction = np.dot(x, w)\n",
    "    \n",
    "    print(f' Prediction = {prediction[0]}, Actual = {actual}')\n",
    "    "
   ]
  },
  {
   "cell_type": "code",
   "execution_count": 335,
   "id": "cc3167c0",
   "metadata": {},
   "outputs": [
    {
     "name": "stdout",
     "output_type": "stream",
     "text": [
      " Prediction = 10.000000000000243, Actual = 10.0\n",
      " SSR = 5.922452132037268e-26\n",
      " MSR = 5.922452132037268e-26\n",
      " RMSR = 2.433608869978343e-13\n",
      " \n",
      "\n",
      " Prediction = 19.999999999999837, Actual = 20.0\n",
      " SSR = 2.6707674807162576e-26\n",
      " MSR = 2.6707674807162576e-26\n",
      " RMSR = 1.6342482922482304e-13\n",
      " \n",
      "\n",
      " Prediction = 6.000000000000402, Actual = 6.0\n",
      " SSR = 1.6188135749949861e-25\n",
      " MSR = 1.6188135749949861e-25\n",
      " RMSR = 4.0234482412415673e-13\n",
      " \n",
      "\n",
      " Prediction = 28.00000000000006, Actual = 28.0\n",
      " SSR = 3.6476928257419586e-27\n",
      " MSR = 3.6476928257419586e-27\n",
      " RMSR = 6.039613253960852e-14\n",
      " \n",
      "\n",
      " Prediction = -1.0000000000002096, Actual = -1.0\n",
      " SSR = 4.3936396977189474e-26\n",
      " MSR = 4.3936396977189474e-26\n",
      " RMSR = 2.0961010704922955e-13\n",
      " \n",
      "\n",
      " Prediction = 25.000000000000124, Actual = 25.0\n",
      " SSR = 1.546167374233183e-26\n",
      " MSR = 1.546167374233183e-26\n",
      " RMSR = 1.2434497875801753e-13\n",
      " \n",
      "\n",
      " Prediction = 34.000000000000384, Actual = 34.0\n",
      " SSR = 1.472203775759661e-25\n",
      " MSR = 1.472203775759661e-25\n",
      " RMSR = 3.836930773104541e-13\n",
      " \n",
      "\n"
     ]
    }
   ],
   "source": [
    "# Calculating the residuals\n",
    "for data, actual in zip(Xtest, ytest):\n",
    "    x = np.array([data])\n",
    "    prediction = np.dot(x, w)\n",
    "    SSR = (prediction[0] - actual)**2\n",
    "    MSR = np.divide(SSR,len(x))\n",
    "    RMSR = np.sqrt(MSR)\n",
    "    \n",
    "    print(f' Prediction = {prediction[0]}, Actual = {actual}')\n",
    "    print(f' SSR = {SSR}')\n",
    "    print(f' MSR = {MSR}')\n",
    "    print(f' RMSR = {RMSR}\\n \\n')\n",
    "    \n",
    "    "
   ]
  },
  {
   "cell_type": "markdown",
   "id": "2604f903",
   "metadata": {},
   "source": [
    "#### 3. Regularized Newton\n",
    "Next step perform the matrix computation -> ((X'X+lambda*I)^-1)*X'y, using only X and y values from rows 2 to 41\n",
    "\n",
    "Use lambda as 0.17\n",
    "\n",
    "Compute and report both training and test errors for the regularized Newton computation"
   ]
  },
  {
   "cell_type": "code",
   "execution_count": 370,
   "id": "96464a15",
   "metadata": {},
   "outputs": [],
   "source": [
    "Xtrain = X\n",
    "ytrain = y"
   ]
  },
  {
   "cell_type": "code",
   "execution_count": 371,
   "id": "4b0f3def",
   "metadata": {},
   "outputs": [],
   "source": [
    "def regNum(X, y, lmd):\n",
    "    lmd = 0.17\n",
    "    regNumerator = np.add(XtX, np.dot(lmd, np.identity(len(XtX))))\n",
    "    \n",
    "    regNewton = np.linalg.solve(regNumerator, Xty)\n",
    "    \n",
    "    return regNewton"
   ]
  },
  {
   "cell_type": "code",
   "execution_count": 372,
   "id": "1dc9b2da",
   "metadata": {},
   "outputs": [],
   "source": [
    "Xtest = np.array(X0[43:])\n",
    "ytest = np.array(y0[43:])"
   ]
  },
  {
   "cell_type": "code",
   "execution_count": 373,
   "id": "b2a97b00",
   "metadata": {},
   "outputs": [
    {
     "name": "stdout",
     "output_type": "stream",
     "text": [
      "FittedOr: [-2.98122946e-02  1.42742094e-02  6.67310820e-04  5.15302839e-02\n",
      "  1.67157681e-03 -6.91353949e-03  9.95586935e-01]\n"
     ]
    }
   ],
   "source": [
    "theta = regNum(Xtrain, ytrain, lmd)\n",
    "print(f'FittedOr: {theta}')"
   ]
  },
  {
   "cell_type": "code",
   "execution_count": 369,
   "id": "52cbc8d5",
   "metadata": {},
   "outputs": [
    {
     "name": "stdout",
     "output_type": "stream",
     "text": [
      " Prediction = 10.000309980670682, Actual = 10.0\n",
      " Prediction = 20.001929806300424, Actual = 20.0\n",
      " Prediction = 5.998784295065942, Actual = 6.0\n",
      " Prediction = 27.998559115082934, Actual = 28.0\n",
      " Prediction = -0.9974781496753786, Actual = -1.0\n",
      " Prediction = 25.000463286315277, Actual = 25.0\n",
      " Prediction = 33.998398924136254, Actual = 34.0\n"
     ]
    }
   ],
   "source": [
    "# Making predictions\n",
    "for data, actual in zip(Xtest, ytest):\n",
    "    x = np.array([data])\n",
    "    prediction = np.dot(x, theta)\n",
    "    \n",
    "    print(f' Prediction = {prediction[0]}, Actual = {actual}')"
   ]
  },
  {
   "cell_type": "code",
   "execution_count": 375,
   "id": "34e28600",
   "metadata": {},
   "outputs": [
    {
     "name": "stdout",
     "output_type": "stream",
     "text": [
      " Training data prediction = 45.99853602310581, Actual = 46.0\n",
      " Training data SSR = 2.1432283467318854e-06\n",
      " Training data MSR = 2.1432283467318854e-06\n",
      " Training data RMSR = 0.0014639768941933085\n",
      " \n",
      "\n",
      " Training data prediction = 14.002927991049772, Actual = 14.0\n",
      " Training data SSR = 8.573131587543214e-06\n",
      " Training data MSR = 8.573131587543214e-06\n",
      " Training data RMSR = 0.0029279910497717054\n",
      " \n",
      "\n",
      " Training data prediction = 17.000979943588888, Actual = 17.0\n",
      " Training data SSR = 9.602894374026486e-07\n",
      " Training data MSR = 9.602894374026486e-07\n",
      " Training data RMSR = 0.000979943588887977\n",
      " \n",
      "\n",
      " Training data prediction = 31.999718294099566, Actual = 32.0\n",
      " Training data SSR = 7.93582143395018e-08\n",
      " Training data MSR = 7.93582143395018e-08\n",
      " Training data RMSR = 0.00028170590043430366\n",
      " \n",
      "\n",
      " Training data prediction = 8.002725039634475, Actual = 8.0\n",
      " Training data SSR = 7.425841009460316e-06\n",
      " Training data MSR = 7.425841009460316e-06\n",
      " Training data RMSR = 0.0027250396344751238\n",
      " \n",
      "\n",
      " Training data prediction = 30.001013771810115, Actual = 30.0\n",
      " Training data SSR = 1.0277332829835613e-06\n",
      " Training data MSR = 1.0277332829835613e-06\n",
      " Training data RMSR = 0.0010137718101148607\n",
      " \n",
      "\n",
      " Training data prediction = 22.00228940696009, Actual = 22.0\n",
      " Training data SSR = 5.241384228915912e-06\n",
      " Training data MSR = 5.241384228915912e-06\n",
      " Training data RMSR = 0.002289406960091611\n",
      " \n",
      "\n",
      " Training data prediction = 23.99941652938424, Actual = 24.0\n",
      " Training data SSR = 3.4043795945370304e-07\n",
      " Training data MSR = 3.4043795945370304e-07\n",
      " Training data RMSR = 0.0005834706157585856\n",
      " \n",
      "\n",
      " Training data prediction = 23.999011646891798, Actual = 24.0\n",
      " Training data SSR = 9.76841866492116e-07\n",
      " Training data MSR = 9.76841866492116e-07\n",
      " Training data RMSR = 0.0009883531082017782\n",
      " \n",
      "\n",
      " Training data prediction = 42.99949664203249, Actual = 43.0\n",
      " Training data SSR = 2.533692434557968e-07\n",
      " Training data MSR = 2.533692434557968e-07\n",
      " Training data RMSR = 0.0005033579675099986\n",
      " \n",
      "\n",
      " Training data prediction = 30.002748824859324, Actual = 30.0\n",
      " Training data SSR = 7.5560381072396565e-06\n",
      " Training data MSR = 7.5560381072396565e-06\n",
      " Training data RMSR = 0.0027488248593243725\n",
      " \n",
      "\n",
      " Training data prediction = 20.0002968940702, Actual = 20.0\n",
      " Training data SSR = 8.814608891976038e-08\n",
      " Training data MSR = 8.814608891976038e-08\n",
      " Training data RMSR = 0.0002968940701997269\n",
      " \n",
      "\n",
      " Training data prediction = 2.001845849281829, Actual = 2.0\n",
      " Training data SSR = 3.4071595712293055e-06\n",
      " Training data MSR = 3.4071595712293055e-06\n",
      " Training data RMSR = 0.0018458492818291816\n",
      " \n",
      "\n",
      " Training data prediction = 18.999637346123393, Actual = 19.0\n",
      " Training data SSR = 1.3151783421812528e-07\n",
      " Training data MSR = 1.3151783421812528e-07\n",
      " Training data RMSR = 0.0003626538766070553\n",
      " \n",
      "\n",
      " Training data prediction = 24.002193111154895, Actual = 24.0\n",
      " Training data SSR = 4.80973653772566e-06\n",
      " Training data MSR = 4.80973653772566e-06\n",
      " Training data RMSR = 0.0021931111548951776\n",
      " \n",
      "\n",
      " Training data prediction = 22.00106036018408, Actual = 22.0\n",
      " Training data SSR = 1.1243637199834906e-06\n",
      " Training data MSR = 1.1243637199834906e-06\n",
      " Training data RMSR = 0.001060360184080622\n",
      " \n",
      "\n",
      " Training data prediction = 22.99688374446593, Actual = 23.0\n",
      " Training data SSR = 9.711048553626193e-06\n",
      " Training data MSR = 9.711048553626193e-06\n",
      " Training data RMSR = 0.0031162555340706888\n",
      " \n",
      "\n",
      " Training data prediction = 24.998306713400485, Actual = 25.0\n",
      " Training data SSR = 2.8672195080976674e-06\n",
      " Training data MSR = 2.8672195080976674e-06\n",
      " Training data RMSR = 0.0016932865995151758\n",
      " \n",
      "\n",
      " Training data prediction = 23.001109417505848, Actual = 23.0\n",
      " Training data SSR = 1.2308072022823135e-06\n",
      " Training data MSR = 1.2308072022823135e-06\n",
      " Training data RMSR = 0.0011094175058481426\n",
      " \n",
      "\n",
      " Training data prediction = 33.9980456279527, Actual = 34.0\n",
      " Training data SSR = 3.819570099271418e-06\n",
      " Training data MSR = 3.819570099271418e-06\n",
      " Training data RMSR = 0.0019543720473009785\n",
      " \n",
      "\n",
      " Training data prediction = 19.00146429182418, Actual = 19.0\n",
      " Training data SSR = 2.144150546363831e-06\n",
      " Training data MSR = 2.144150546363831e-06\n",
      " Training data RMSR = 0.0014642918241811742\n",
      " \n",
      "\n",
      " Training data prediction = 45.999802855156275, Actual = 46.0\n",
      " Training data SSR = 3.8866089407186165e-08\n",
      " Training data MSR = 3.8866089407186165e-08\n",
      " Training data RMSR = 0.00019714484372457264\n",
      " \n",
      "\n",
      " Training data prediction = 25.9981090594628, Actual = 26.0\n",
      " Training data SSR = 3.575656115231527e-06\n",
      " Training data MSR = 3.575656115231527e-06\n",
      " Training data RMSR = 0.001890940537201402\n",
      " \n",
      "\n",
      " Training data prediction = 28.000932602969403, Actual = 28.0\n",
      " Training data SSR = 8.697482985393059e-07\n",
      " Training data MSR = 8.697482985393059e-07\n",
      " Training data RMSR = 0.0009326029694030069\n",
      " \n",
      "\n",
      " Training data prediction = 28.00050588154797, Actual = 28.0\n",
      " Training data SSR = 2.5591614057578166e-07\n",
      " Training data MSR = 2.5591614057578166e-07\n",
      " Training data RMSR = 0.0005058815479692669\n",
      " \n",
      "\n",
      " Training data prediction = 32.99896694195913, Actual = 33.0\n",
      " Training data SSR = 1.067208915801471e-06\n",
      " Training data MSR = 1.067208915801471e-06\n",
      " Training data RMSR = 0.0010330580408677292\n",
      " \n",
      "\n",
      " Training data prediction = 27.998104197140833, Actual = 28.0\n",
      " Training data SSR = 3.5940684808254167e-06\n",
      " Training data MSR = 3.5940684808254167e-06\n",
      " Training data RMSR = 0.0018958028591669063\n",
      " \n",
      "\n",
      " Training data prediction = 22.002242603319008, Actual = 22.0\n",
      " Training data SSR = 5.029269646425432e-06\n",
      " Training data MSR = 5.029269646425432e-06\n",
      " Training data RMSR = 0.002242603319007941\n",
      " \n",
      "\n",
      " Training data prediction = 32.99888620500734, Actual = 33.0\n",
      " Training data SSR = 1.2405392856790893e-06\n",
      " Training data MSR = 1.2405392856790893e-06\n",
      " Training data RMSR = 0.001113794992662065\n",
      " \n",
      "\n",
      " Training data prediction = 28.001010323386073, Actual = 28.0\n",
      " Training data SSR = 1.0207533444450876e-06\n",
      " Training data MSR = 1.0207533444450876e-06\n",
      " Training data RMSR = 0.0010103233860725425\n",
      " \n",
      "\n",
      " Training data prediction = 19.999457258938612, Actual = 20.0\n",
      " Training data SSR = 2.9456785971617164e-07\n",
      " Training data MSR = 2.9456785971617164e-07\n",
      " Training data RMSR = 0.0005427410613876305\n",
      " \n",
      "\n",
      " Training data prediction = 24.999929564606653, Actual = 25.0\n",
      " Training data SSR = 4.961144635970274e-09\n",
      " Training data MSR = 4.961144635970274e-09\n",
      " Training data RMSR = 7.043539334716797e-05\n",
      " \n",
      "\n",
      " Training data prediction = 27.99933584627302, Actual = 28.0\n",
      " Training data SSR = 4.411001730614674e-07\n",
      " Training data MSR = 4.411001730614674e-07\n",
      " Training data RMSR = 0.0006641537269800324\n",
      " \n",
      "\n",
      " Training data prediction = 31.00291013391727, Actual = 31.0\n",
      " Training data SSR = 8.468879416435655e-06\n",
      " Training data MSR = 8.468879416435655e-06\n",
      " Training data RMSR = 0.002910133917268354\n",
      " \n",
      "\n",
      " Training data prediction = 33.000207374888014, Actual = 33.0\n",
      " Training data SSR = 4.300434417864879e-08\n",
      " Training data MSR = 4.300434417864879e-08\n",
      " Training data RMSR = 0.0002073748880135895\n",
      " \n",
      "\n",
      " Training data prediction = 40.9973279774116, Actual = 41.0\n",
      " Training data SSR = 7.139704712915341e-06\n",
      " Training data MSR = 7.139704712915341e-06\n",
      " Training data RMSR = 0.002672022588399159\n",
      " \n",
      "\n",
      " Training data prediction = 32.00070512854332, Actual = 32.0\n",
      " Training data SSR = 4.972062626095163e-07\n",
      " Training data MSR = 4.972062626095163e-07\n",
      " Training data RMSR = 0.0007051285433234966\n",
      " \n",
      "\n",
      " Training data prediction = 32.99942638955398, Actual = 33.0\n",
      " Training data SSR = 3.2902894378135386e-07\n",
      " Training data MSR = 3.2902894378135386e-07\n",
      " Training data RMSR = 0.0005736104460183356\n",
      " \n",
      "\n",
      " Training data prediction = 35.999120592734194, Actual = 36.0\n",
      " Training data SSR = 7.733571391528501e-07\n",
      " Training data MSR = 7.733571391528501e-07\n",
      " Training data RMSR = 0.0008794072658062646\n",
      " \n",
      "\n",
      " Training data prediction = 57.99842047470568, Actual = 58.0\n",
      " Training data SSR = 2.494900155389791e-06\n",
      " Training data MSR = 2.494900155389791e-06\n",
      " Training data RMSR = 0.0015795252943178184\n",
      " \n",
      "\n",
      " Training data prediction = 4.999959209187372, Actual = 5.0\n",
      " Training data SSR = 1.6638903948598408e-09\n",
      " Training data MSR = 1.6638903948598408e-09\n",
      " Training data RMSR = 4.07908126280887e-05\n",
      " \n",
      "\n"
     ]
    }
   ],
   "source": [
    "# Calculating the residuals on the training data\n",
    "for data, actual in zip(Xtrain, ytrain):\n",
    "    x = np.array([data])\n",
    "    prediction = np.dot(x, theta)\n",
    "    SSR = (prediction[0] - actual)**2\n",
    "    MSR = np.divide(SSR,len(x))\n",
    "    RMSR = np.sqrt(MSR)\n",
    "    \n",
    "    print(f' Training data prediction = {prediction[0]}, Actual = {actual}')\n",
    "    print(f' Training data SSR = {SSR}')\n",
    "    print(f' Training data MSR = {MSR}')\n",
    "    print(f' Training data RMSR = {RMSR}\\n \\n')\n",
    "    "
   ]
  },
  {
   "cell_type": "code",
   "execution_count": 376,
   "id": "1739a43d",
   "metadata": {
    "scrolled": true
   },
   "outputs": [
    {
     "name": "stdout",
     "output_type": "stream",
     "text": [
      " Test data prediction = 10.000309980670682, Actual = 10.0\n",
      " Test data SSR = 9.608801619652976e-08\n",
      " Test data MSR = 9.608801619652976e-08\n",
      " Test data RMSR = 0.00030998067068210844\n",
      " \n",
      "\n",
      " Test data prediction = 20.001929806300424, Actual = 20.0\n",
      " Test data SSR = 3.724152357157227e-06\n",
      " Test data MSR = 3.724152357157227e-06\n",
      " Test data RMSR = 0.001929806300424275\n",
      " \n",
      "\n",
      " Test data prediction = 5.998784295065942, Actual = 6.0\n",
      " Test data SSR = 1.4779384866929218e-06\n",
      " Test data MSR = 1.4779384866929218e-06\n",
      " Test data RMSR = 0.0012157049340579817\n",
      " \n",
      "\n",
      " Test data prediction = 27.998559115082934, Actual = 28.0\n",
      " Test data SSR = 2.076149344229442e-06\n",
      " Test data MSR = 2.076149344229442e-06\n",
      " Test data RMSR = 0.0014408849170663984\n",
      " \n",
      "\n",
      " Test data prediction = -0.9974781496753786, Actual = -1.0\n",
      " Test data SSR = 6.359729059792947e-06\n",
      " Test data MSR = 6.359729059792947e-06\n",
      " Test data RMSR = 0.0025218503246213775\n",
      " \n",
      "\n",
      " Test data prediction = 25.000463286315277, Actual = 25.0\n",
      " Test data SSR = 2.1463420992307412e-07\n",
      " Test data MSR = 2.1463420992307412e-07\n",
      " Test data RMSR = 0.0004632863152771449\n",
      " \n",
      "\n",
      " Test data prediction = 33.998398924136254, Actual = 34.0\n",
      " Test data SSR = 2.5634439214711513e-06\n",
      " Test data MSR = 2.5634439214711513e-06\n",
      " Test data RMSR = 0.0016010758637463596\n",
      " \n",
      "\n"
     ]
    }
   ],
   "source": [
    "# Calculating the residuals on the test data\n",
    "for data, actual in zip(Xtest, ytest):\n",
    "    x = np.array([data])\n",
    "    prediction = np.dot(x, theta)\n",
    "    SSR = (prediction[0] - actual)**2\n",
    "    MSR = np.divide(SSR,len(x))\n",
    "    RMSR = np.sqrt(MSR)\n",
    "    \n",
    "    print(f' Test data prediction = {prediction[0]}, Actual = {actual}')\n",
    "    print(f' Test data SSR = {SSR}')\n",
    "    print(f' Test data MSR = {MSR}')\n",
    "    print(f' Test data RMSR = {RMSR}\\n \\n')\n",
    "    "
   ]
  },
  {
   "cell_type": "markdown",
   "id": "861d79c3",
   "metadata": {},
   "source": [
    "#### 4. Compute R-squared values for both Newton and Regularized Newton on both train and test datasets\n",
    "Look up how to compute R-squared values in excel"
   ]
  },
  {
   "cell_type": "code",
   "execution_count": null,
   "id": "ea832fd4",
   "metadata": {},
   "outputs": [],
   "source": [
    "# Calculating R2 on Newton training data\n",
    "for data, actual in zip(Xtrain, ytrain):\n",
    "    x = np.array([data])\n",
    "    prediction = np.dot(x, w)\n",
    "    SSR = (prediction[0] - actual)**2\n",
    "    MSR = np.divide(SSR,len(x))\n",
    "    RMSR = np.sqrt(MSR)\n",
    "    \n",
    "    print(f' Test data prediction = {prediction[0]}, Actual = {actual}')\n",
    "    print(f' Test data SSR = {SSR}')\n",
    "    print(f' Test data MSR = {MSR}')\n",
    "    print(f' Test data RMSR = {RMSR}\\n \\n')\n",
    "    "
   ]
  }
 ],
 "metadata": {
  "kernelspec": {
   "display_name": "Python 3 (ipykernel)",
   "language": "python",
   "name": "python3"
  },
  "language_info": {
   "codemirror_mode": {
    "name": "ipython",
    "version": 3
   },
   "file_extension": ".py",
   "mimetype": "text/x-python",
   "name": "python",
   "nbconvert_exporter": "python",
   "pygments_lexer": "ipython3",
   "version": "3.11.7"
  }
 },
 "nbformat": 4,
 "nbformat_minor": 5
}
